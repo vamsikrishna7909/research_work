{
 "cells": [
  {
   "cell_type": "code",
   "execution_count": 2,
   "id": "fd5d5778-a91c-4ac9-9f82-03db43476bbe",
   "metadata": {},
   "outputs": [],
   "source": [
    "import os\n",
    "import logging\n",
    "from google.cloud import storage\n",
    "import vertexai\n",
    "from vertexai.generative_models import GenerativeModel, Part"
   ]
  },
  {
   "cell_type": "code",
   "execution_count": 3,
   "id": "d2a866c4-a7b1-469f-9849-19b5b9c327d0",
   "metadata": {},
   "outputs": [
    {
     "name": "stdout",
     "output_type": "stream",
     "text": [
      "Project ID: None\n",
      "Credentials: <google.oauth2.credentials.Credentials object at 0x7f274b0b5d10>\n"
     ]
    }
   ],
   "source": [
    "import google.auth\n",
    "from google.cloud import storage\n",
    "\n",
    "# Check if credentials are correctly set\n",
    "credentials, project = google.auth.default()\n",
    "print(f\"Project ID: {project}\")\n",
    "print(f\"Credentials: {credentials}\")\n"
   ]
  },
  {
   "cell_type": "code",
   "execution_count": 4,
   "id": "877cd9d3-1b47-4269-bcda-6427d2ea6879",
   "metadata": {},
   "outputs": [
    {
     "name": "stderr",
     "output_type": "stream",
     "text": [
      "WARNING:google.auth._default:No project ID could be determined. Consider running `gcloud config set project` or setting the GOOGLE_CLOUD_PROJECT environment variable\n"
     ]
    }
   ],
   "source": [
    "# Configure logging\n",
    "logging.basicConfig(level=logging.INFO)\n",
    "\n",
    "# Initialize Vertex AI and Google Cloud Storage\n",
    "project_id = \"flowing-blade-430704-q3\"\n",
    "vertexai.init(project=project_id, location=\"us-central1\")\n",
    "\n",
    "storage_client = storage.Client(project=\"flowing-blade-430704-q3\")\n",
    "bucket_name = \"gta_images_bucket_01\"\n",
    "bucket = storage_client.bucket(bucket_name)\n",
    "\n",
    "model = GenerativeModel(\"gemini-1.5-flash-001\")\n",
    "\n",
    "# Paths\n",
    "image_dir = \"images\"\n",
    "caption_dir = \"google_captions_vamsi\"\n",
    "\n",
    "# Ensure the caption directory exists\n",
    "os.makedirs(caption_dir, exist_ok=True)"
   ]
  },
  {
   "cell_type": "code",
   "execution_count": 5,
   "id": "5005e7d0-e196-4822-93e6-cdcffb7563c4",
   "metadata": {},
   "outputs": [],
   "source": [
    "def upload_to_gcs(local_path, gcs_path):\n",
    "    try:\n",
    "        blob = bucket.blob(gcs_path)\n",
    "        blob.upload_from_filename(local_path)\n",
    "        logging.info(f\"Uploaded {local_path} to gs://{bucket_name}/{gcs_path}\")\n",
    "        return f\"gs://{bucket_name}/{gcs_path}\"\n",
    "    except Exception as e:\n",
    "        logging.error(f\"Failed to upload {local_path} to GCS: {e}\")\n",
    "        return None"
   ]
  },
  {
   "cell_type": "code",
   "execution_count": 6,
   "id": "28a2a922-8c86-4ca6-9940-699b9c68edc4",
   "metadata": {},
   "outputs": [],
   "source": [
    "def generate_caption(image_gcs_uri):\n",
    "    try:\n",
    "        response = model.generate_content(\n",
    "            [\n",
    "                Part.from_uri(image_gcs_uri, mime_type=\"image/jpeg\"),\n",
    "                \"Describe the image according to traffic data in 2-3 sentences.\",\n",
    "            ],\n",
    "            safety_settings={\n",
    "                \"categories\": [\n",
    "                    {\"category\": \"HATE_SPEECH\", \"threshold\": \"BLOCK_FEW\"},\n",
    "                    {\"category\": \"DANGEROUS_CONTENT\", \"threshold\": \"BLOCK_FEW\"},\n",
    "                    {\"category\": \"SEXUALLY_EXPLICIT\", \"threshold\": \"BLOCK_FEW\"},\n",
    "                    {\"category\": \"HARASSMENT\", \"threshold\": \"BLOCK_FEW\"},\n",
    "                ]\n",
    "            }\n",
    "        )\n",
    "        logging.info(f\"Response: {response}\")\n",
    "        return response.text\n",
    "    except Exception as e:\n",
    "        logging.error(f\"Failed to generate caption for {image_gcs_uri}: {e}\")\n",
    "        return f\"Error generating caption: {e}\""
   ]
  },
  {
   "cell_type": "code",
   "execution_count": 7,
   "id": "c06e939c-c23e-4eb1-ad9c-1c116742794a",
   "metadata": {},
   "outputs": [],
   "source": [
    "import time\n",
    "\n",
    "# Add a delay between requests to avoid hitting the quota limit\n",
    "def rate_limited_generate_caption(image_gcs_uri):\n",
    "    try:\n",
    "        # Wait for 30 seconds before making a new request\n",
    "        time.sleep(30)\n",
    "        return generate_caption(image_gcs_uri)\n",
    "    except Exception as e:\n",
    "        logging.error(f\"Failed to generate caption for {image_gcs_uri}: {e}\")\n",
    "        return f\"Error generating caption: {e}\""
   ]
  },
  {
   "cell_type": "code",
   "execution_count": 8,
   "id": "9e120083-85b5-401c-b620-8bfc16ec145b",
   "metadata": {},
   "outputs": [
    {
     "name": "stderr",
     "output_type": "stream",
     "text": [
      "INFO:root:Scanning directory: images\n"
     ]
    },
    {
     "name": "stdout",
     "output_type": "stream",
     "text": [
      "Captions generated and saved successfully.\n"
     ]
    }
   ],
   "source": [
    "# Initialize a counter for processed images\n",
    "processed_count = 0\n",
    "start_image = 1\n",
    "end_image = 8322\n",
    "\n",
    "# Create a set of image names from '00001.png' to '08322.png'\n",
    "image_names = {f\"{str(i).zfill(5)}.png\" for i in range(start_image, end_image + 1)}\n",
    "\n",
    "# Traverse through the directory and process only the images within the specified range\n",
    "for root, dirs, files in os.walk(image_dir):\n",
    "    # Skip hidden directories like .ipynb_checkpoints\n",
    "    dirs[:] = [d for d in dirs if not d.startswith('.')]\n",
    "    \n",
    "    logging.info(f\"Scanning directory: {root}\")\n",
    "    for file in files:\n",
    "        # Skip hidden files\n",
    "        if file.startswith('.'):\n",
    "            continue\n",
    "\n",
    "        if file.lower() in image_names:\n",
    "            caption_file_name = f\"{os.path.splitext(file)[0]}.txt\"\n",
    "            caption_path = os.path.join(caption_dir, caption_file_name)\n",
    "\n",
    "            # Skip the image if the caption file already exists\n",
    "            if os.path.exists(caption_path):\n",
    "                #logging.info(f\"Caption already exists for {file}, skipping...\")\n",
    "                continue\n",
    "            \n",
    "            image_path = os.path.join(root, file)\n",
    "            \n",
    "            # Upload image to GCS\n",
    "            gcs_path = f\"temp_images/{file}\"\n",
    "            image_gcs_uri = upload_to_gcs(image_path, gcs_path)\n",
    "            if not image_gcs_uri:\n",
    "                continue\n",
    "\n",
    "            # Generate caption with rate limiting\n",
    "            caption = rate_limited_generate_caption(image_gcs_uri)\n",
    "\n",
    "            # Save caption to file\n",
    "            try:\n",
    "                with open(caption_path, 'w') as caption_file:\n",
    "                    caption_file.write(caption)\n",
    "                logging.info(f\"Saved caption to {caption_path}\")\n",
    "            except Exception as e:\n",
    "                logging.error(f\"Failed to save caption to {caption_path}: {e}\")\n",
    "            \n",
    "            # Optionally, delete the uploaded image from GCS\n",
    "            try:\n",
    "                bucket.blob(gcs_path).delete()\n",
    "                logging.info(f\"Deleted {gcs_path} from GCS\")\n",
    "            except Exception as e:\n",
    "                logging.error(f\"Failed to delete {gcs_path} from GCS: {e}\")\n",
    "\n",
    "            # Increment the counter\n",
    "            processed_count += 1\n",
    "\n",
    "        if processed_count >= len(image_names):\n",
    "            logging.info(\"All specified images processed, exiting...\")\n",
    "            break\n",
    "    if processed_count >= len(image_names):\n",
    "        break\n",
    "\n",
    "print(\"Captions generated and saved successfully.\")"
   ]
  },
  {
   "cell_type": "code",
   "execution_count": 9,
   "id": "f198d678-8177-40a9-b79a-4f06ab51bf58",
   "metadata": {},
   "outputs": [
    {
     "name": "stdout",
     "output_type": "stream",
     "text": [
      "8322\n",
      "8322\n",
      "Captions generated for all images.\n"
     ]
    }
   ],
   "source": [
    "import os\n",
    "\n",
    "# Range of images\n",
    "start_image = 1\n",
    "end_image = 8322\n",
    "\n",
    "# Generate sets of image names and expected caption names\n",
    "image_names = {f\"{str(i).zfill(5)}.png\" for i in range(start_image, end_image + 1)}\n",
    "caption_names = {f\"{str(i).zfill(5)}.txt\" for i in range(start_image, end_image + 1)}\n",
    "\n",
    "# Get the set of existing caption files\n",
    "existing_captions = {file for file in os.listdir(caption_dir) if file.endswith('.txt')}\n",
    "\n",
    "# Check for missing captions\n",
    "print(len(image_names))\n",
    "print(len(caption_names))\n",
    "missing_captions = caption_names - existing_captions\n",
    "if not missing_captions:\n",
    "    print(\"Captions generated for all images.\")\n",
    "else:\n",
    "    print(f\"Missing captions for the following images ({len(missing_captions)} missing):\")\n",
    "    for missing_caption in missing_captions:\n",
    "        print(missing_caption.replace('.txt', '.png'))\n"
   ]
  },
  {
   "cell_type": "code",
   "execution_count": 13,
   "id": "81bfb807-bf5b-4530-bc4d-6c6424bfadb0",
   "metadata": {},
   "outputs": [
    {
     "name": "stdout",
     "output_type": "stream",
     "text": [
      "Pattern found in file: google_captions_vamsi/.ipynb_checkpoints/01488-checkpoint.txt\n",
      "Files containing the specific text pattern:\n",
      "google_captions_vamsi/.ipynb_checkpoints/01488-checkpoint.txt\n"
     ]
    }
   ],
   "source": [
    "import os\n",
    "import json\n",
    "import re\n",
    "\n",
    "# Directory where the captions are stored\n",
    "caption_dir = \"google_captions_vamsi\"\n",
    "\n",
    "# Function to search for specific text pattern in a file\n",
    "def search_in_file(file_path):\n",
    "    try:\n",
    "        with open(file_path, 'r') as file:\n",
    "            content = file.read()\n",
    "            # Check if the specific text pattern exists in the content\n",
    "            if \"Error\" in content or \"error\" in content:\n",
    "                print(f\"Pattern found in file: {file_path}\")\n",
    "                return True\n",
    "    except Exception as e:\n",
    "        print(f\"Error reading file {file_path}: {e}\")\n",
    "    return False\n",
    "\n",
    "# Traverse through the caption directory and search for the specific pattern\n",
    "pattern_found_files = []\n",
    "\n",
    "for root, dirs, files in os.walk(caption_dir):\n",
    "    for file in files:\n",
    "        if file.endswith(\".txt\"):\n",
    "            file_path = os.path.join(root, file)\n",
    "            if search_in_file(file_path):\n",
    "                pattern_found_files.append(file_path)\n",
    "\n",
    "# Log the results\n",
    "if pattern_found_files:\n",
    "    print(\"Files containing the specific text pattern:\")\n",
    "    for file_path in pattern_found_files:\n",
    "        print(file_path)\n",
    "else:\n",
    "    print(\"No files containing the specific text pattern were found.\")\n"
   ]
  },
  {
   "cell_type": "code",
   "execution_count": null,
   "id": "ef73784b-d48a-4556-9d82-eeb53d162797",
   "metadata": {},
   "outputs": [],
   "source": []
  }
 ],
 "metadata": {
  "kernelspec": {
   "display_name": "Python 3 (ipykernel)",
   "language": "python",
   "name": "python3"
  },
  "language_info": {
   "codemirror_mode": {
    "name": "ipython",
    "version": 3
   },
   "file_extension": ".py",
   "mimetype": "text/x-python",
   "name": "python",
   "nbconvert_exporter": "python",
   "pygments_lexer": "ipython3",
   "version": "3.10.12"
  }
 },
 "nbformat": 4,
 "nbformat_minor": 5
}
